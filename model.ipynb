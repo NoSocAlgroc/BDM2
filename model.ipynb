{
 "cells": [
  {
   "cell_type": "code",
   "execution_count": null,
   "metadata": {},
   "outputs": [],
   "source": [
    "from pyspark.sql import SparkSession\n",
    "from pyspark.ml.feature import VectorAssembler,StandardScaler\n",
    "from pyspark.ml.regression import RandomForestRegressor\n",
    "from pyspark.ml.evaluation import RegressionEvaluator\n",
    "import matplotlib.pyplot as plt\n",
    "import pandas as pd\n",
    "import numpy as np"
   ]
  },
  {
   "cell_type": "code",
   "execution_count": null,
   "metadata": {},
   "outputs": [],
   "source": [
    "spark = SparkSession.builder \\\n",
    "    .config(\"spark.jars\", \"./postgresql-42.6.0.jar\") \\\n",
    "    .appName(\"BDM2\") \\\n",
    "    .getOrCreate()\n",
    "\n",
    "url = \"jdbc:postgresql://10.4.41.64:5432/bdmdb\"\n",
    "properties = {\n",
    "    \"user\": \"bdm\",\n",
    "    \"password\": \"bdm\",\n",
    "    \"driver\": \"org.postgresql.Driver\"\n",
    "}\n",
    "\n",
    "table_name = \"idealista_model\"\n",
    "df = spark.read.jdbc(url=url, table=table_name, properties=properties)\n",
    "\n",
    "assembler = VectorAssembler(inputCols=[col for col in df.columns[:-1] ], outputCol=\"features\")\n",
    "assembler2 = VectorAssembler(inputCols=[\"price\"], outputCol=\"target\")\n",
    "data = assembler.transform(df).select(\"features\", \"price\")\n",
    "\n",
    "scaler = StandardScaler(inputCol=\"features\", outputCol=\"scaledFeatures\", withStd=True, withMean=True)\n",
    "scalerModel = scaler.fit(data)\n",
    "data = scalerModel.transform(data)\n",
    "\n",
    "train_data, test_data = data.randomSplit([0.8, 0.2], seed=42)\n",
    "\n",
    "rf = RandomForestRegressor(featuresCol=\"features\", labelCol=\"price\", numTrees=30,maxDepth=10)\n",
    "model = rf.fit(train_data)"
   ]
  },
  {
   "cell_type": "code",
   "execution_count": null,
   "metadata": {},
   "outputs": [],
   "source": [
    "predictions = model.transform(test_data)\n",
    "\n",
    "evaluator = RegressionEvaluator(labelCol=\"price\", predictionCol=\"prediction\", metricName=\"rmse\")\n",
    "rmse = evaluator.evaluate(predictions)\n",
    "print(\"Root Mean Squared Error (RMSE):\", rmse)"
   ]
  },
  {
   "cell_type": "code",
   "execution_count": null,
   "metadata": {},
   "outputs": [],
   "source": [
    "pdf=predictions.toPandas()\n",
    "pdf['dif']=np.abs(pdf['price']-pdf['prediction'])\n",
    "# Convert the DataFrame column to a Pandas Series\n",
    "pdf['ldif']=np.log10(pdf['dif']+1)\n",
    "\n",
    "# Plot the histogram\n",
    "plt.hist(pdf['ldif'], bins=30)  # Adjust the number of bins as needed\n",
    "plt.xlabel(\"Log error\")\n",
    "plt.ylabel(\"Frequency\")\n",
    "plt.title(\"Histogram of \" + \"Log Error\")\n",
    "\n",
    "plt.show()"
   ]
  }
 ],
 "metadata": {
  "kernelspec": {
   "display_name": "Python 3",
   "language": "python",
   "name": "python3"
  },
  "language_info": {
   "name": "python",
   "version": "3.8.10"
  },
  "orig_nbformat": 4
 },
 "nbformat": 4,
 "nbformat_minor": 2
}
